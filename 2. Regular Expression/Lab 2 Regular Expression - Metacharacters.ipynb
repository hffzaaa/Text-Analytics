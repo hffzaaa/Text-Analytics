{
 "cells": [
  {
   "cell_type": "code",
   "execution_count": 1,
   "id": "b778c5fc",
   "metadata": {},
   "outputs": [],
   "source": [
    "# import regular expression library\n",
    "\n",
    "import re"
   ]
  },
  {
   "cell_type": "markdown",
   "id": "a1c87461",
   "metadata": {},
   "source": [
    "# METACHARACTERS"
   ]
  },
  {
   "cell_type": "markdown",
   "id": "0c7ac7ac",
   "metadata": {},
   "source": [
    "### 1.  '.'"
   ]
  },
  {
   "cell_type": "markdown",
   "id": "62934e2a",
   "metadata": {},
   "source": [
    "Find any characters in a string except new line (incl spaces)"
   ]
  },
  {
   "cell_type": "code",
   "execution_count": 2,
   "id": "fbfde70f",
   "metadata": {},
   "outputs": [
    {
     "name": "stdout",
     "output_type": "stream",
     "text": [
      "['I', ' ', 'a', 'm', ' ', 'l', 'e', 'a', 'r', 'n', 'i', 'n', 'g', ' ', 't', 'e', 'x', 't', ' ', 'a', 'n', 'a', 'l', 'y', 't', 'i', 'c', 's']\n"
     ]
    }
   ],
   "source": [
    "sentence1 = re.findall(r'.', 'I am learning text analytics')\n",
    "print(sentence1) #Each letter will be selected including spaces (Total 28 characters)"
   ]
  },
  {
   "cell_type": "markdown",
   "id": "e1158d6f",
   "metadata": {},
   "source": [
    "### 2. '\\w'"
   ]
  },
  {
   "cell_type": "markdown",
   "id": "114c47cd",
   "metadata": {},
   "source": [
    "Find any single character except new line and spaces"
   ]
  },
  {
   "cell_type": "code",
   "execution_count": 3,
   "id": "1774ae4b",
   "metadata": {},
   "outputs": [
    {
     "name": "stdout",
     "output_type": "stream",
     "text": [
      "['I', 'a', 'm', 'l', 'e', 'a', 'r', 'n', 'i', 'n', 'g', 't', 'e', 'x', 't', 'a', 'n', 'a', 'l', 'y', 't', 'i', 'c', 's']\n"
     ]
    }
   ],
   "source": [
    "sentence2 = re.findall(r'\\w', 'I am learning text analytics')\n",
    "print(sentence2) # Each letter is selected except space (Total 24 characters)"
   ]
  },
  {
   "cell_type": "markdown",
   "id": "e757891d",
   "metadata": {},
   "source": [
    "### 3. '\\w*'"
   ]
  },
  {
   "cell_type": "markdown",
   "id": "d276ed56",
   "metadata": {},
   "source": [
    "Matches any characters with 0 or more characters incl spaces"
   ]
  },
  {
   "cell_type": "code",
   "execution_count": 4,
   "id": "46e91073",
   "metadata": {},
   "outputs": [
    {
     "name": "stdout",
     "output_type": "stream",
     "text": [
      "['I', '', 'am', '', 'learning', '', 'text', '', 'analytics', '']\n"
     ]
    }
   ],
   "source": [
    "sentence3 = re.findall(r'\\w*', 'I am learning text analytics')\n",
    "print(sentence3) # each word selected (5 words + spaces)"
   ]
  },
  {
   "cell_type": "markdown",
   "id": "0aa1b680",
   "metadata": {},
   "source": [
    "### 4. '\\w+'"
   ]
  },
  {
   "cell_type": "markdown",
   "id": "de4b7879",
   "metadata": {},
   "source": [
    "Matches 1 or more characters excl spaces"
   ]
  },
  {
   "cell_type": "code",
   "execution_count": 5,
   "id": "cf461edf",
   "metadata": {},
   "outputs": [
    {
     "name": "stdout",
     "output_type": "stream",
     "text": [
      "['I', 'am', 'learning', 'text', 'analytics']\n"
     ]
    }
   ],
   "source": [
    "sentence4 = re.findall(r'\\w+', 'I am learning text analytics')\n",
    "print(sentence4) # each word selected (5 words - spaces)"
   ]
  },
  {
   "cell_type": "markdown",
   "id": "6cd6d64a",
   "metadata": {},
   "source": [
    "### 5. ^\\w+"
   ]
  },
  {
   "cell_type": "markdown",
   "id": "8e72fea5",
   "metadata": {},
   "source": [
    "find first word in string"
   ]
  },
  {
   "cell_type": "code",
   "execution_count": 6,
   "id": "6d8b072f",
   "metadata": {},
   "outputs": [
    {
     "name": "stdout",
     "output_type": "stream",
     "text": [
      "['I']\n"
     ]
    }
   ],
   "source": [
    "sentence5 = re.findall(r'^\\w+', 'I am learning text analytics')\n",
    "print(sentence5)"
   ]
  },
  {
   "cell_type": "markdown",
   "id": "e2f10f84",
   "metadata": {},
   "source": [
    "### 6. \\w+$"
   ]
  },
  {
   "cell_type": "markdown",
   "id": "8bfca8dd",
   "metadata": {},
   "source": [
    "find last word in string"
   ]
  },
  {
   "cell_type": "code",
   "execution_count": 7,
   "id": "5a09972b",
   "metadata": {},
   "outputs": [
    {
     "name": "stdout",
     "output_type": "stream",
     "text": [
      "['analytics']\n"
     ]
    }
   ],
   "source": [
    "sentence6 = re.findall(r'\\w+$', 'I am learning text analytics')\n",
    "print(sentence6)"
   ]
  },
  {
   "cell_type": "markdown",
   "id": "fde227d2",
   "metadata": {},
   "source": [
    "### 7. \\w\\w"
   ]
  },
  {
   "cell_type": "markdown",
   "id": "32cd9daa",
   "metadata": {},
   "source": [
    "find 2 consecutive characters"
   ]
  },
  {
   "cell_type": "code",
   "execution_count": 8,
   "id": "0a3446d0",
   "metadata": {},
   "outputs": [
    {
     "name": "stdout",
     "output_type": "stream",
     "text": [
      "['am', 'le', 'ar', 'ni', 'ng', 'te', 'xt', 'an', 'al', 'yt', 'ic']\n"
     ]
    }
   ],
   "source": [
    "sentence7 = re.findall(r'\\w\\w', 'I am learning text analytics')\n",
    "print(sentence7) # 'I' not selected because one character only"
   ]
  },
  {
   "cell_type": "markdown",
   "id": "4e00a0e4",
   "metadata": {},
   "source": [
    "### 8. \\b\\w\\w"
   ]
  },
  {
   "cell_type": "markdown",
   "id": "15cc89e0",
   "metadata": {},
   "source": [
    "find only the first two consecutive characters "
   ]
  },
  {
   "cell_type": "code",
   "execution_count": 9,
   "id": "6477c293",
   "metadata": {},
   "outputs": [
    {
     "name": "stdout",
     "output_type": "stream",
     "text": [
      "['am', 'le', 'te', 'an']\n"
     ]
    }
   ],
   "source": [
    "sentence8 = re.findall(r'\\b\\w\\w', 'I am learning text analytics')\n",
    "print(sentence8)"
   ]
  },
  {
   "cell_type": "markdown",
   "id": "ac8e219e",
   "metadata": {},
   "source": [
    "# Extract domain type of email"
   ]
  },
  {
   "cell_type": "code",
   "execution_count": 10,
   "id": "42b64da6",
   "metadata": {},
   "outputs": [
    {
     "name": "stdout",
     "output_type": "stream",
     "text": [
      "['@text', '@analytics', '@textanalytics']\n"
     ]
    }
   ],
   "source": [
    "# 1\n",
    "\n",
    "sentence9 = re.findall (r'@\\w+', 'user@text.com.my, user@analytics.gov.my, user@textanalytics.edu.my')\n",
    "print (sentence9) \n",
    "\n",
    "# first word domain name selected after the '@'"
   ]
  },
  {
   "cell_type": "code",
   "execution_count": 11,
   "id": "c242f77c",
   "metadata": {},
   "outputs": [
    {
     "name": "stdout",
     "output_type": "stream",
     "text": [
      "['@text.com', '@analytics.gov', '@textanalytics.edu']\n"
     ]
    }
   ],
   "source": [
    "# 2\n",
    "\n",
    "sentence10 = re.findall (r'@\\w+.\\w+','user@text.com.my, user@analytics.gov.my, user@textanalytics.edu.my')\n",
    "print (sentence10)\n",
    "\n",
    "# domain name '@ + domain name + domain name' will be selected"
   ]
  },
  {
   "cell_type": "code",
   "execution_count": 12,
   "id": "eb3f2c64",
   "metadata": {},
   "outputs": [
    {
     "name": "stdout",
     "output_type": "stream",
     "text": [
      "['@text.com.my', '@analytics.gov.my', '@textanalytics.edu.my']\n"
     ]
    }
   ],
   "source": [
    "# 3\n",
    "\n",
    "sentence11 = re.findall (r'@\\w+.\\w+.\\w+', 'user@text.com.my, user@analytics.gov.my, user@textanalytics.edu.my')\n",
    "print (sentence11) \n",
    " \n",
    "# The full domain name '@ + domain name + domain name + domain name' is selected "
   ]
  },
  {
   "cell_type": "code",
   "execution_count": 13,
   "id": "9e417577",
   "metadata": {},
   "outputs": [
    {
     "name": "stdout",
     "output_type": "stream",
     "text": [
      "['com.my', 'gov.my', 'edu.my']\n"
     ]
    }
   ],
   "source": [
    "# 4\n",
    "\n",
    "sentence12 = re.findall (r'@\\w+.(\\w+.\\w+)', 'user@text.com.my, user@analytics.gov.my, user@textanalytics.edu.my') \n",
    "print (sentence12) \n",
    " \n",
    "# To display the type of domain where only (\\w+.\\w+) will be chosen"
   ]
  },
  {
   "cell_type": "markdown",
   "id": "37effaf7",
   "metadata": {},
   "source": [
    "# Extract date"
   ]
  },
  {
   "cell_type": "code",
   "execution_count": 14,
   "id": "2fac32f7",
   "metadata": {},
   "outputs": [
    {
     "name": "stdout",
     "output_type": "stream",
     "text": [
      "['15-05-20', '20-08-20']\n"
     ]
    }
   ],
   "source": [
    "# 1\n",
    "\n",
    "sentence13 = re.findall (r'\\d{2}-\\d{2}-\\d{2}', 'Ahmad BIT(IS) 15-05-2001, Johnny BCS(SE) 20-08-2000')\n",
    "print (sentence13) \n",
    " \n",
    "# To display the date in the format of dd-mm-yy. {2} means only 2 number will be chosen"
   ]
  },
  {
   "cell_type": "code",
   "execution_count": 15,
   "id": "76c2db85",
   "metadata": {},
   "outputs": [
    {
     "name": "stdout",
     "output_type": "stream",
     "text": [
      "['15-05-2001', '20-08-2000']\n"
     ]
    }
   ],
   "source": [
    "# 2\n",
    "\n",
    "sentence14 = re.findall (r'\\d{2}-\\d{2}-\\d{4}', 'Ahmad BIT(IS) 15-05-2001, Johnny BCS(SE) 20-08-2000')\n",
    "print (sentence14) \n",
    " \n",
    "# To display the date in the format of dd-mm-yyyy. {4} means only 4 number will be chosen"
   ]
  },
  {
   "cell_type": "code",
   "execution_count": 16,
   "id": "1bc985c6",
   "metadata": {},
   "outputs": [
    {
     "name": "stdout",
     "output_type": "stream",
     "text": [
      "['2001', '2000']\n"
     ]
    }
   ],
   "source": [
    "# 3\n",
    "\n",
    "sentence15 = re.findall (r'\\d{2}-\\d{2}-(\\d{4})', 'Ahmad BIT(IS) 15-05-2001, Johnny BCS(SE) 20-08-2000')\n",
    "print (sentence15) \n",
    " \n",
    "# Only the year will be displayed "
   ]
  },
  {
   "cell_type": "markdown",
   "id": "1f4020f7",
   "metadata": {},
   "source": [
    "# Select words that start with vowels"
   ]
  },
  {
   "cell_type": "code",
   "execution_count": 17,
   "id": "53a79169",
   "metadata": {},
   "outputs": [
    {
     "name": "stdout",
     "output_type": "stream",
     "text": [
      "['ave', 'eight', 'ory', 'ooks', 'often', 'ead', 'em', 'in', 'afternoon']\n"
     ]
    }
   ],
   "source": [
    "# 1\n",
    "\n",
    "sentence16 = re.findall (r'[aeiouAEIOU]\\w+', 'I have eight story books. I often read them in afternoon')\n",
    "print(sentence16) # A sequence that starts with a vowel followed by one o rmore characters are selected "
   ]
  },
  {
   "cell_type": "code",
   "execution_count": 18,
   "id": "26d61859",
   "metadata": {},
   "outputs": [
    {
     "name": "stdout",
     "output_type": "stream",
     "text": [
      "['eight', 'often', 'in', 'afternoon']\n"
     ]
    }
   ],
   "source": [
    "# 2\n",
    "\n",
    "sentence17 = re.findall (r'\\b[aeiouAEIOU]\\w+', 'I have eight story books. I often read them in afternoon')\n",
    "print(sentence17) # Only words that start with vowels are selected "
   ]
  },
  {
   "cell_type": "code",
   "execution_count": 19,
   "id": "eb1dd2c9",
   "metadata": {},
   "outputs": [
    {
     "name": "stdout",
     "output_type": "stream",
     "text": [
      "['have', 'story', 'books', 'read', 'them']\n"
     ]
    }
   ],
   "source": [
    "# 3\n",
    "\n",
    "sentence18 = re.findall (r'\\b[^aeiouAEIOU\\s]\\w+', 'I have eight story books. I often read them in afternoon')\n",
    "print(sentence18) # Only words that start with non-vowels are selected "
   ]
  },
  {
   "cell_type": "markdown",
   "id": "20dde5fc",
   "metadata": {},
   "source": [
    "# Splitting a string with multiple delimiters"
   ]
  },
  {
   "cell_type": "code",
   "execution_count": 20,
   "id": "af46609c",
   "metadata": {},
   "outputs": [
    {
     "name": "stdout",
     "output_type": "stream",
     "text": [
      "['I have many story books', ' colouring books', ' I often read them in the afternoon.']\n"
     ]
    }
   ],
   "source": [
    "# 1\n",
    "\n",
    "sentence19 = re.split (r'[;,]', 'I have many story books, colouring books; I often read them in the afternoon.')\n",
    "print (sentence19) \n",
    "\n",
    "# split the words based on the delimiters semi colon and comma "
   ]
  },
  {
   "cell_type": "code",
   "execution_count": 21,
   "id": "d28728ae",
   "metadata": {},
   "outputs": [
    {
     "name": "stdout",
     "output_type": "stream",
     "text": [
      "['I', 'have', 'many', 'story', 'books', '', 'colouring', 'books', '', 'I', 'often', 'read', 'them', 'in', 'the', 'afternoon.']\n"
     ]
    }
   ],
   "source": [
    "# 2\n",
    "\n",
    "sentence20 = re.split (r'[;,\\s]', 'I have many story books, colouring books; I often read them in the afternoon.')\n",
    "print (sentence20) \n",
    "\n",
    "# split the words based on the delimiters semi colon, comma and space "
   ]
  },
  {
   "cell_type": "markdown",
   "id": "ecf4edc4",
   "metadata": {},
   "source": [
    "# Substituting delimiters"
   ]
  },
  {
   "cell_type": "code",
   "execution_count": 22,
   "id": "b7f113d4",
   "metadata": {},
   "outputs": [
    {
     "name": "stdout",
     "output_type": "stream",
     "text": [
      "I have many story books. colouring books. I often read them in the afternoon.\n"
     ]
    }
   ],
   "source": [
    "sentence21 = re.sub (r'[;,]', '.', 'I have many story books, colouring books; I often read them in the afternoon.')\n",
    "print (sentence21) \n",
    " \n",
    "# Substitute the delimiters semi colon and comma with fullstop "
   ]
  }
 ],
 "metadata": {
  "kernelspec": {
   "display_name": "Python 3 (ipykernel)",
   "language": "python",
   "name": "python3"
  },
  "language_info": {
   "codemirror_mode": {
    "name": "ipython",
    "version": 3
   },
   "file_extension": ".py",
   "mimetype": "text/x-python",
   "name": "python",
   "nbconvert_exporter": "python",
   "pygments_lexer": "ipython3",
   "version": "3.11.5"
  }
 },
 "nbformat": 4,
 "nbformat_minor": 5
}
