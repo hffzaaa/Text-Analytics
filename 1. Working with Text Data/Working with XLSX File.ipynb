{
 "cells": [
  {
   "cell_type": "code",
   "execution_count": 1,
   "id": "2a81e0ec",
   "metadata": {},
   "outputs": [
    {
     "name": "stdout",
     "output_type": "stream",
     "text": [
      "Defaulting to user installation because normal site-packages is not writeableNote: you may need to restart the kernel to use updated packages.\n",
      "\n",
      "Requirement already satisfied: openpyxl in c:\\anaconda\\lib\\site-packages (3.0.10)\n",
      "Requirement already satisfied: et_xmlfile in c:\\anaconda\\lib\\site-packages (from openpyxl) (1.1.0)\n"
     ]
    }
   ],
   "source": [
    "pip install openpyxl"
   ]
  },
  {
   "cell_type": "code",
   "execution_count": 2,
   "id": "c682e84e",
   "metadata": {},
   "outputs": [],
   "source": [
    "import pandas as pd"
   ]
  },
  {
   "cell_type": "code",
   "execution_count": 3,
   "id": "da1e7b66",
   "metadata": {},
   "outputs": [],
   "source": [
    "# Define excel file name\n",
    "\n",
    "excel_file = 'sample_data.xlsx'"
   ]
  },
  {
   "cell_type": "code",
   "execution_count": 4,
   "id": "1dadf144",
   "metadata": {},
   "outputs": [],
   "source": [
    "# Define output text file name\n",
    "\n",
    "output_file = 'comments_xlsx.txt'"
   ]
  },
  {
   "cell_type": "code",
   "execution_count": 5,
   "id": "eeaccf7e",
   "metadata": {},
   "outputs": [],
   "source": [
    "# Read excel file\n",
    "\n",
    "df = pd.read_excel(excel_file)"
   ]
  },
  {
   "cell_type": "code",
   "execution_count": 6,
   "id": "4b1863b9",
   "metadata": {},
   "outputs": [],
   "source": [
    "# Extract the comment column\n",
    "\n",
    "comments = df['comments']"
   ]
  },
  {
   "cell_type": "code",
   "execution_count": 7,
   "id": "5f2ae1e2",
   "metadata": {},
   "outputs": [
    {
     "name": "stdout",
     "output_type": "stream",
     "text": [
      "Comments extracted and saved to comments_xlsx.txt\n"
     ]
    }
   ],
   "source": [
    "# Open the output text file for writing\n",
    "\n",
    "with open(output_file, 'w') as txtfile:\n",
    "    # Write each comment to text file\n",
    "    for comment in comments:\n",
    "        txtfile.write(str(comment) + '\\n')\n",
    "        \n",
    "print(\"Comments extracted and saved to\", output_file)"
   ]
  }
 ],
 "metadata": {
  "kernelspec": {
   "display_name": "Python 3 (ipykernel)",
   "language": "python",
   "name": "python3"
  },
  "language_info": {
   "codemirror_mode": {
    "name": "ipython",
    "version": 3
   },
   "file_extension": ".py",
   "mimetype": "text/x-python",
   "name": "python",
   "nbconvert_exporter": "python",
   "pygments_lexer": "ipython3",
   "version": "3.11.5"
  }
 },
 "nbformat": 4,
 "nbformat_minor": 5
}
