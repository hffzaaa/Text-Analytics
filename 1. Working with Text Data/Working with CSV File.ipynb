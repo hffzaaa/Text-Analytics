{
 "cells": [
  {
   "cell_type": "code",
   "execution_count": 1,
   "id": "2a81e0ec",
   "metadata": {},
   "outputs": [],
   "source": [
    "import csv\n",
    "\n",
    "# Import CSV file.\n",
    "csv_file = 'sample_data.csv'\n",
    "\n",
    "# Create file to store the comments.\n",
    "output_file = 'comments_csv.txt'\n",
    "\n",
    "# Open file to read\n",
    "with open(csv_file, 'r',  newline='') as csvfile:\n",
    "    # Create pointer or CSV reader object\n",
    "    reader = csv.DictReader(csvfile)\n",
    "    \n",
    "    # Initialize a list to store the comments\n",
    "    comments = []\n",
    "    \n",
    "    # Iterate over each row in the CSV file\n",
    "    for row in reader:\n",
    "        # Extract the comments column value and add to the list\n",
    "        comments.append(row['comments'])"
   ]
  },
  {
   "cell_type": "code",
   "execution_count": 2,
   "id": "da1e7b66",
   "metadata": {},
   "outputs": [
    {
     "name": "stdout",
     "output_type": "stream",
     "text": [
      "Comments extracted and saved to comments_csv.txt\n"
     ]
    }
   ],
   "source": [
    "# Open the output text file for writing\n",
    "with open(output_file, 'w') as txtfile:\n",
    "    # Write each comment to the text file\n",
    "    for comment in comments:\n",
    "        txtfile.write(comment + '\\n')\n",
    "        \n",
    "print(\"Comments extracted and saved to\", output_file)"
   ]
  }
 ],
 "metadata": {
  "kernelspec": {
   "display_name": "Python 3 (ipykernel)",
   "language": "python",
   "name": "python3"
  },
  "language_info": {
   "codemirror_mode": {
    "name": "ipython",
    "version": 3
   },
   "file_extension": ".py",
   "mimetype": "text/x-python",
   "name": "python",
   "nbconvert_exporter": "python",
   "pygments_lexer": "ipython3",
   "version": "3.11.5"
  }
 },
 "nbformat": 4,
 "nbformat_minor": 5
}
