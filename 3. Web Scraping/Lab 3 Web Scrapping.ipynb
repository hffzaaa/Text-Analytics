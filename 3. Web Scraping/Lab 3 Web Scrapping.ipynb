{
 "cells": [
  {
   "cell_type": "markdown",
   "id": "f3e618fb",
   "metadata": {},
   "source": [
    "# Quotes to Scrape\n",
    "https://quotes.toscrape.com/"
   ]
  },
  {
   "cell_type": "code",
   "execution_count": 2,
   "id": "c7b682b1",
   "metadata": {},
   "outputs": [],
   "source": [
    "import requests\n",
    "from bs4 import BeautifulSoup\n",
    "import csv"
   ]
  },
  {
   "cell_type": "code",
   "execution_count": 5,
   "id": "fdd80b37",
   "metadata": {},
   "outputs": [],
   "source": [
    "# send GET requests to the website\n",
    "page = requests.get('https://quotes.toscrape.com/')"
   ]
  },
  {
   "cell_type": "code",
   "execution_count": 7,
   "id": "2ea149b6",
   "metadata": {},
   "outputs": [],
   "source": [
    "# parse html content\n",
    "soup = BeautifulSoup(page.text, 'html.parser')"
   ]
  },
  {
   "cell_type": "code",
   "execution_count": 9,
   "id": "4ddf1d64",
   "metadata": {},
   "outputs": [],
   "source": [
    "# create list to store quotes\n",
    "quotes = []"
   ]
  },
  {
   "cell_type": "code",
   "execution_count": 12,
   "id": "426a04e6",
   "metadata": {},
   "outputs": [],
   "source": [
    "# find all quotes element\n",
    "quote_elements = soup.find_all('div', class_='quote')"
   ]
  },
  {
   "cell_type": "code",
   "execution_count": 14,
   "id": "7d962467",
   "metadata": {},
   "outputs": [],
   "source": [
    "# extract info from each quote\n",
    "for quote_element in quote_elements:\n",
    "    # extract text of the quote\n",
    "    text = quote_element.find('span', class_='text')\n",
    "    # extract author of the quote\n",
    "    author = quote_element.find('small', class_='author')\n",
    "    \n",
    "    # etraxt tag <a> html element related to the quote\n",
    "    tag_elements = quote_element.select('.tags .tag')\n",
    "    \n",
    "    # store the list of tag strings in a list\n",
    "    tags = []\n",
    "    for tag_element in tag_elements:\n",
    "        tags.append(tag_element.text)\n",
    "        \n",
    "    quotes.append(\n",
    "    {\n",
    "        'text': text,\n",
    "        'author': author,\n",
    "        'tags': ', '.join(tags) # merge the tags into a \"A, B, ..., Z\" string\n",
    "    }\n",
    ")"
   ]
  },
  {
   "cell_type": "code",
   "execution_count": 15,
   "id": "4c55c3d1",
   "metadata": {},
   "outputs": [
    {
     "name": "stdout",
     "output_type": "stream",
     "text": [
      "Quote:  <span class=\"text\" itemprop=\"text\">“The world as we have created it is a process of our thinking. It cannot be changed without changing our thinking.”</span>\n",
      "Author:  <small class=\"author\" itemprop=\"author\">Albert Einstein</small>\n",
      "Tags:  change, deep-thoughts, thinking, world\n",
      "\n",
      "Quote:  <span class=\"text\" itemprop=\"text\">“It is our choices, Harry, that show what we truly are, far more than our abilities.”</span>\n",
      "Author:  <small class=\"author\" itemprop=\"author\">J.K. Rowling</small>\n",
      "Tags:  abilities, choices\n",
      "\n",
      "Quote:  <span class=\"text\" itemprop=\"text\">“There are only two ways to live your life. One is as though nothing is a miracle. The other is as though everything is a miracle.”</span>\n",
      "Author:  <small class=\"author\" itemprop=\"author\">Albert Einstein</small>\n",
      "Tags:  inspirational, life, live, miracle, miracles\n",
      "\n",
      "Quote:  <span class=\"text\" itemprop=\"text\">“The person, be it gentleman or lady, who has not pleasure in a good novel, must be intolerably stupid.”</span>\n",
      "Author:  <small class=\"author\" itemprop=\"author\">Jane Austen</small>\n",
      "Tags:  aliteracy, books, classic, humor\n",
      "\n",
      "Quote:  <span class=\"text\" itemprop=\"text\">“Imperfection is beauty, madness is genius and it's better to be absolutely ridiculous than absolutely boring.”</span>\n",
      "Author:  <small class=\"author\" itemprop=\"author\">Marilyn Monroe</small>\n",
      "Tags:  be-yourself, inspirational\n",
      "\n",
      "Quote:  <span class=\"text\" itemprop=\"text\">“Try not to become a man of success. Rather become a man of value.”</span>\n",
      "Author:  <small class=\"author\" itemprop=\"author\">Albert Einstein</small>\n",
      "Tags:  adulthood, success, value\n",
      "\n",
      "Quote:  <span class=\"text\" itemprop=\"text\">“It is better to be hated for what you are than to be loved for what you are not.”</span>\n",
      "Author:  <small class=\"author\" itemprop=\"author\">André Gide</small>\n",
      "Tags:  life, love\n",
      "\n",
      "Quote:  <span class=\"text\" itemprop=\"text\">“I have not failed. I've just found 10,000 ways that won't work.”</span>\n",
      "Author:  <small class=\"author\" itemprop=\"author\">Thomas A. Edison</small>\n",
      "Tags:  edison, failure, inspirational, paraphrased\n",
      "\n",
      "Quote:  <span class=\"text\" itemprop=\"text\">“A woman is like a tea bag; you never know how strong it is until it's in hot water.”</span>\n",
      "Author:  <small class=\"author\" itemprop=\"author\">Eleanor Roosevelt</small>\n",
      "Tags:  misattributed-eleanor-roosevelt\n",
      "\n",
      "Quote:  <span class=\"text\" itemprop=\"text\">“A day without sunshine is like, you know, night.”</span>\n",
      "Author:  <small class=\"author\" itemprop=\"author\">Steve Martin</small>\n",
      "Tags:  humor, obvious, simile\n",
      "\n",
      "Quote:  <span class=\"text\" itemprop=\"text\">“The world as we have created it is a process of our thinking. It cannot be changed without changing our thinking.”</span>\n",
      "Author:  <small class=\"author\" itemprop=\"author\">Albert Einstein</small>\n",
      "Tags:  change, deep-thoughts, thinking, world\n",
      "\n",
      "Quote:  <span class=\"text\" itemprop=\"text\">“It is our choices, Harry, that show what we truly are, far more than our abilities.”</span>\n",
      "Author:  <small class=\"author\" itemprop=\"author\">J.K. Rowling</small>\n",
      "Tags:  abilities, choices\n",
      "\n",
      "Quote:  <span class=\"text\" itemprop=\"text\">“There are only two ways to live your life. One is as though nothing is a miracle. The other is as though everything is a miracle.”</span>\n",
      "Author:  <small class=\"author\" itemprop=\"author\">Albert Einstein</small>\n",
      "Tags:  inspirational, life, live, miracle, miracles\n",
      "\n",
      "Quote:  <span class=\"text\" itemprop=\"text\">“The person, be it gentleman or lady, who has not pleasure in a good novel, must be intolerably stupid.”</span>\n",
      "Author:  <small class=\"author\" itemprop=\"author\">Jane Austen</small>\n",
      "Tags:  aliteracy, books, classic, humor\n",
      "\n",
      "Quote:  <span class=\"text\" itemprop=\"text\">“Imperfection is beauty, madness is genius and it's better to be absolutely ridiculous than absolutely boring.”</span>\n",
      "Author:  <small class=\"author\" itemprop=\"author\">Marilyn Monroe</small>\n",
      "Tags:  be-yourself, inspirational\n",
      "\n",
      "Quote:  <span class=\"text\" itemprop=\"text\">“Try not to become a man of success. Rather become a man of value.”</span>\n",
      "Author:  <small class=\"author\" itemprop=\"author\">Albert Einstein</small>\n",
      "Tags:  adulthood, success, value\n",
      "\n",
      "Quote:  <span class=\"text\" itemprop=\"text\">“It is better to be hated for what you are than to be loved for what you are not.”</span>\n",
      "Author:  <small class=\"author\" itemprop=\"author\">André Gide</small>\n",
      "Tags:  life, love\n",
      "\n",
      "Quote:  <span class=\"text\" itemprop=\"text\">“I have not failed. I've just found 10,000 ways that won't work.”</span>\n",
      "Author:  <small class=\"author\" itemprop=\"author\">Thomas A. Edison</small>\n",
      "Tags:  edison, failure, inspirational, paraphrased\n",
      "\n",
      "Quote:  <span class=\"text\" itemprop=\"text\">“A woman is like a tea bag; you never know how strong it is until it's in hot water.”</span>\n",
      "Author:  <small class=\"author\" itemprop=\"author\">Eleanor Roosevelt</small>\n",
      "Tags:  misattributed-eleanor-roosevelt\n",
      "\n",
      "Quote:  <span class=\"text\" itemprop=\"text\">“A day without sunshine is like, you know, night.”</span>\n",
      "Author:  <small class=\"author\" itemprop=\"author\">Steve Martin</small>\n",
      "Tags:  humor, obvious, simile\n",
      "\n"
     ]
    }
   ],
   "source": [
    "# Print the scraped quotes - optional\n",
    "for quote in quotes:\n",
    "    print(\"Quote: \", quote['text'])\n",
    "    print(\"Author: \", quote['author'])\n",
    "    print(\"Tags: \", quote['tags'])\n",
    "    print()"
   ]
  },
  {
   "cell_type": "code",
   "execution_count": 16,
   "id": "5d3aac75",
   "metadata": {},
   "outputs": [
    {
     "name": "stdout",
     "output_type": "stream",
     "text": [
      "Quotes have been saved to quotes.csv\n"
     ]
    }
   ],
   "source": [
    "# Save quotes to a CSV file\n",
    "with open('quotes.csv', 'w', encoding='utf-8', newline='') as csvfile:\n",
    "    fieldnames = ['text', 'author', 'tags']\n",
    "    writer = csv.DictWriter(csvfile, fieldnames=fieldnames)\n",
    "    \n",
    "    # Write headers\n",
    "    writer.writeheader()\n",
    "    \n",
    "    # Write quotes\n",
    "    for quote in quotes:\n",
    "        writer.writerow(quote)\n",
    "\n",
    "print(\"Quotes have been saved to quotes.csv\")"
   ]
  }
 ],
 "metadata": {
  "kernelspec": {
   "display_name": "Python 3 (ipykernel)",
   "language": "python",
   "name": "python3"
  },
  "language_info": {
   "codemirror_mode": {
    "name": "ipython",
    "version": 3
   },
   "file_extension": ".py",
   "mimetype": "text/x-python",
   "name": "python",
   "nbconvert_exporter": "python",
   "pygments_lexer": "ipython3",
   "version": "3.11.5"
  }
 },
 "nbformat": 4,
 "nbformat_minor": 5
}
