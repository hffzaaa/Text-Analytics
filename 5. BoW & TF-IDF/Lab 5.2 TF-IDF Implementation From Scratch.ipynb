{
 "cells": [
  {
   "cell_type": "code",
   "execution_count": 1,
   "id": "ea4fdace",
   "metadata": {},
   "outputs": [],
   "source": [
    "import pandas as pd\n",
    "import math\n",
    "from collections import Counter"
   ]
  },
  {
   "cell_type": "code",
   "execution_count": 2,
   "id": "83a1abf8",
   "metadata": {},
   "outputs": [],
   "source": [
    "def compute_tf(document):\n",
    "    word_count = Counter(document)\n",
    "    tf = {word: count/len(document) for word, count in word_count.items()}\n",
    "    return tf\n",
    "\n",
    "def compute_idf(documents):\n",
    "    N = len(documents)\n",
    "    idf = {}\n",
    "    all_words = set(word for doc in documents for word in doc)\n",
    "    for word in all_words:\n",
    "        count = sum(1 for doc in documents if word in doc)\n",
    "        idf[word] = math.log(N/count)\n",
    "    return idf\n",
    "\n",
    "def compute_tfidf(document, idf):\n",
    "    tfidf = {}\n",
    "    tf = compute_tf(document)\n",
    "    for word, tf_value in tf.items():\n",
    "        tfidf[word] = tf_value * idf[word]\n",
    "    return tfidf"
   ]
  },
  {
   "cell_type": "code",
   "execution_count": 3,
   "id": "65b41fb7",
   "metadata": {},
   "outputs": [],
   "source": [
    "# New data\n",
    "data = [\n",
    "    \"A quick brown fox jumps over the lazy dog What a fox\",\n",
    "    \"A quick brown fox jumps over the lazy fox What a fox\"\n",
    "]"
   ]
  },
  {
   "cell_type": "code",
   "execution_count": 4,
   "id": "7865e2de",
   "metadata": {},
   "outputs": [],
   "source": [
    "# Split data into tokens\n",
    "documents = [doc.split() for doc in data]"
   ]
  },
  {
   "cell_type": "code",
   "execution_count": 5,
   "id": "9d642c88",
   "metadata": {},
   "outputs": [],
   "source": [
    "# Compute TF for each document\n",
    "tf_data = [compute_tf(doc) for doc in documents]"
   ]
  },
  {
   "cell_type": "code",
   "execution_count": 6,
   "id": "1cba3021",
   "metadata": {},
   "outputs": [
    {
     "name": "stdout",
     "output_type": "stream",
     "text": [
      "TF Scores:\n",
      "          A     quick     brown       fox     jumps      over       the  \\\n",
      "0  0.083333  0.083333  0.083333  0.166667  0.083333  0.083333  0.083333   \n",
      "1  0.083333  0.083333  0.083333  0.250000  0.083333  0.083333  0.083333   \n",
      "\n",
      "       lazy       dog      What         a  \n",
      "0  0.083333  0.083333  0.083333  0.083333  \n",
      "1  0.083333  0.000000  0.083333  0.083333  \n"
     ]
    }
   ],
   "source": [
    "# Create DataFrame for TF\n",
    "tf_df = pd.DataFrame(tf_data).fillna(0)\n",
    "print(\"TF Scores:\")\n",
    "print(tf_df)"
   ]
  },
  {
   "cell_type": "code",
   "execution_count": 7,
   "id": "b6326332",
   "metadata": {},
   "outputs": [
    {
     "name": "stdout",
     "output_type": "stream",
     "text": [
      "\n",
      "IDF Scores:\n",
      "   quick    A       dog    a  lazy  jumps  What  the  fox  brown  over\n",
      "0    0.0  0.0  0.693147  0.0   0.0    0.0   0.0  0.0  0.0    0.0   0.0\n"
     ]
    }
   ],
   "source": [
    "# Compute IDF\n",
    "idf = compute_idf(documents)\n",
    "idf_df = pd.DataFrame([idf]).fillna(0)\n",
    "print(\"\\nIDF Scores:\")\n",
    "print(idf_df)"
   ]
  },
  {
   "cell_type": "code",
   "execution_count": 8,
   "id": "0fa47279",
   "metadata": {},
   "outputs": [],
   "source": [
    "# Compute TF-IDF for each document\n",
    "tfidf_data = [compute_tfidf(doc, idf) for doc in documents]"
   ]
  },
  {
   "cell_type": "code",
   "execution_count": 9,
   "id": "55b0ab14",
   "metadata": {},
   "outputs": [
    {
     "name": "stdout",
     "output_type": "stream",
     "text": [
      "\n",
      "TF-IDF Scores:\n",
      "     A  quick  brown  fox  jumps  over  the  lazy       dog  What    a\n",
      "0  0.0    0.0    0.0  0.0    0.0   0.0  0.0   0.0  0.057762   0.0  0.0\n",
      "1  0.0    0.0    0.0  0.0    0.0   0.0  0.0   0.0  0.000000   0.0  0.0\n"
     ]
    }
   ],
   "source": [
    "# Create DataFrame for TF-IDF\n",
    "tfidf_df = pd.DataFrame(tfidf_data).fillna(0)\n",
    "print(\"\\nTF-IDF Scores:\")\n",
    "print(tfidf_df)"
   ]
  }
 ],
 "metadata": {
  "kernelspec": {
   "display_name": "Python 3 (ipykernel)",
   "language": "python",
   "name": "python3"
  },
  "language_info": {
   "codemirror_mode": {
    "name": "ipython",
    "version": 3
   },
   "file_extension": ".py",
   "mimetype": "text/x-python",
   "name": "python",
   "nbconvert_exporter": "python",
   "pygments_lexer": "ipython3",
   "version": "3.11.5"
  }
 },
 "nbformat": 4,
 "nbformat_minor": 5
}
