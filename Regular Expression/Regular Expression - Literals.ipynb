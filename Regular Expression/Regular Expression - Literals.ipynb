{
 "cells": [
  {
   "cell_type": "code",
   "execution_count": 1,
   "id": "9c0ea9f2",
   "metadata": {},
   "outputs": [],
   "source": [
    "# import regular expression library\n",
    "\n",
    "import re"
   ]
  },
  {
   "cell_type": "markdown",
   "id": "fa7c188f",
   "metadata": {},
   "source": [
    "# LITERALS"
   ]
  },
  {
   "cell_type": "markdown",
   "id": "ed37c2be",
   "metadata": {},
   "source": [
    "### 1. Re.match()"
   ]
  },
  {
   "cell_type": "markdown",
   "id": "2b2cbf3e",
   "metadata": {},
   "source": [
    "Check for a match at the beginning of a string"
   ]
  },
  {
   "cell_type": "code",
   "execution_count": 2,
   "id": "715dcbf3",
   "metadata": {},
   "outputs": [
    {
     "name": "stdout",
     "output_type": "stream",
     "text": [
      "<re.Match object; span=(0, 1), match='I'>\n"
     ]
    }
   ],
   "source": [
    "# find the first occurence of the letter 'I' in the string\n",
    "\n",
    "sentence1 = re.match(r'I', 'I am learning text analytics')\n",
    "print (sentence1)"
   ]
  },
  {
   "cell_type": "code",
   "execution_count": 3,
   "id": "3c86c3f0",
   "metadata": {},
   "outputs": [
    {
     "name": "stdout",
     "output_type": "stream",
     "text": [
      "None\n"
     ]
    }
   ],
   "source": [
    "# find the first occurence of the letter 'v' in the string\n",
    "\n",
    "sentence2 = re.match(r'v', 'I am learning text analytics')\n",
    "print (sentence2)"
   ]
  },
  {
   "cell_type": "code",
   "execution_count": 4,
   "id": "0bb94051",
   "metadata": {},
   "outputs": [
    {
     "name": "stdout",
     "output_type": "stream",
     "text": [
      "None\n"
     ]
    }
   ],
   "source": [
    "# find the first occurence of the letter 'am' in the string\n",
    "\n",
    "sentence3 = re.match(r'am', 'I am learning text analytics')\n",
    "print (sentence3)"
   ]
  },
  {
   "cell_type": "markdown",
   "id": "870bba9c",
   "metadata": {},
   "source": [
    "### 2. Re.search()"
   ]
  },
  {
   "cell_type": "markdown",
   "id": "7d1d6c21",
   "metadata": {},
   "source": [
    "Find the occurence of a pattern in a string regardless of the location"
   ]
  },
  {
   "cell_type": "code",
   "execution_count": 5,
   "id": "81a6c686",
   "metadata": {},
   "outputs": [
    {
     "name": "stdout",
     "output_type": "stream",
     "text": [
      "<re.Match object; span=(2, 4), match='am'>\n"
     ]
    }
   ],
   "source": [
    "sentence4 = re.search(r'am', 'I am learning text analytics')\n",
    "print(sentence4)"
   ]
  },
  {
   "cell_type": "code",
   "execution_count": 6,
   "id": "1ca81074",
   "metadata": {},
   "outputs": [
    {
     "name": "stdout",
     "output_type": "stream",
     "text": [
      "<re.Match object; span=(2, 4), match='am'>\n"
     ]
    }
   ],
   "source": [
    "sentence5 = re.search(r'am', 'I am learning text analytics and am enjoying it')\n",
    "print(sentence5) # only returns the first occurence"
   ]
  },
  {
   "cell_type": "code",
   "execution_count": 7,
   "id": "fc8f7c96",
   "metadata": {},
   "outputs": [],
   "source": [
    "# RE.FINDALL()\n",
    "# find all of the occurences of a pattern in a string"
   ]
  },
  {
   "cell_type": "code",
   "execution_count": 8,
   "id": "092b22ca",
   "metadata": {},
   "outputs": [
    {
     "name": "stdout",
     "output_type": "stream",
     "text": [
      "['am', 'am']\n"
     ]
    }
   ],
   "source": [
    "sentence6 = re.findall(r'am', 'I am learning text analytics and am enjoying it')\n",
    "print(sentence6)"
   ]
  },
  {
   "cell_type": "markdown",
   "id": "932b2075",
   "metadata": {},
   "source": [
    "###  3. Re.split()"
   ]
  },
  {
   "cell_type": "markdown",
   "id": "b7765166",
   "metadata": {},
   "source": [
    "Split a string by the occurence of a given pattern"
   ]
  },
  {
   "cell_type": "code",
   "execution_count": 9,
   "id": "289c0155",
   "metadata": {},
   "outputs": [
    {
     "name": "stdout",
     "output_type": "stream",
     "text": [
      "['I am learning text analytics ', ' am enjoying it']\n"
     ]
    }
   ],
   "source": [
    "sentence7 = re.split(r'and', 'I am learning text analytics and am enjoying it')\n",
    "print(sentence7) #split into 2 by the pattern 'and'"
   ]
  },
  {
   "cell_type": "code",
   "execution_count": 10,
   "id": "54061ef2",
   "metadata": {},
   "outputs": [
    {
     "name": "stdout",
     "output_type": "stream",
     "text": [
      "['I ', ' learning text analytics and ', ' enjoying it']\n"
     ]
    }
   ],
   "source": [
    "sentence8 = re.split(r'am', 'I am learning text analytics and am enjoying it')\n",
    "print(sentence8) # split into 3 by the pattern 'am'"
   ]
  },
  {
   "cell_type": "code",
   "execution_count": 11,
   "id": "09595726",
   "metadata": {},
   "outputs": [
    {
     "name": "stdout",
     "output_type": "stream",
     "text": [
      "['I ', ' learning text analytics and am enjoying it']\n"
     ]
    }
   ],
   "source": [
    "sentence9 = re.split(r'am', 'I am learning text analytics and am enjoying it', maxsplit=1)\n",
    "print(sentence9) # split into 2 by the first occurence of 'am'"
   ]
  },
  {
   "cell_type": "code",
   "execution_count": 12,
   "id": "26b2aeaf",
   "metadata": {},
   "outputs": [
    {
     "name": "stdout",
     "output_type": "stream",
     "text": [
      "['I ', ' learning text analytics and ', ' enjoying it']\n"
     ]
    }
   ],
   "source": [
    "sentence9 = re.split(r'am', 'I am learning text analytics and am enjoying it', maxsplit=2)\n",
    "print(sentence9) # split into 3 by the first two occurence of 'am'"
   ]
  },
  {
   "cell_type": "code",
   "execution_count": 13,
   "id": "5c35124c",
   "metadata": {},
   "outputs": [
    {
     "name": "stdout",
     "output_type": "stream",
     "text": [
      "['I ', ' learning text analytics and ', ' enjoying it and I ', ' going to ace it']\n"
     ]
    }
   ],
   "source": [
    "sentence10 = re.split(r'am', 'I am learning text analytics and am enjoying it and I am going to ace it', maxsplit=3)\n",
    "print(sentence10) # split into 4 by the first three occurence of 'am'"
   ]
  },
  {
   "cell_type": "markdown",
   "id": "3b13caee",
   "metadata": {},
   "source": [
    "### 4. Re.sub()"
   ]
  },
  {
   "cell_type": "markdown",
   "id": "41609572",
   "metadata": {},
   "source": [
    "Find occurence and replace w new value"
   ]
  },
  {
   "cell_type": "code",
   "execution_count": 14,
   "id": "6c65f10a",
   "metadata": {},
   "outputs": [
    {
     "name": "stdout",
     "output_type": "stream",
     "text": [
      "we like text analytics and we enjoy learning it\n"
     ]
    }
   ],
   "source": [
    "sentence11 = re.sub(r'I', 'we', 'I like text analytics and I enjoy learning it')\n",
    "print(sentence11) # change 'I' to We in '2' occurence"
   ]
  }
 ],
 "metadata": {
  "kernelspec": {
   "display_name": "Python 3 (ipykernel)",
   "language": "python",
   "name": "python3"
  },
  "language_info": {
   "codemirror_mode": {
    "name": "ipython",
    "version": 3
   },
   "file_extension": ".py",
   "mimetype": "text/x-python",
   "name": "python",
   "nbconvert_exporter": "python",
   "pygments_lexer": "ipython3",
   "version": "3.11.5"
  }
 },
 "nbformat": 4,
 "nbformat_minor": 5
}
